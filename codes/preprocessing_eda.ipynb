{
 "cells": [
  {
   "cell_type": "markdown",
   "metadata": {},
   "source": [
    "# EDA ANALYSIS"
   ]
  },
  {
   "cell_type": "code",
   "execution_count": null,
   "metadata": {
    "vscode": {
     "languageId": "plaintext"
    }
   },
   "outputs": [],
   "source": [
    "import pandas as pd\n",
    "import numpy as np\n",
    "import plotly.graph_objects as go\n",
    "from plotly.subplots import make_subplots\n",
    "import plotly.express as px\n",
    "import pandas as pd\n",
    "import plotly.express as px\n",
    "import plotly.graph_objects as go\n",
    "\n",
    "\n",
    "\n",
    "\n",
    "\n",
    "data = pd.read_csv('crop_dataset.csv')\n",
    "\n",
    "print(\"First 5 rows of the dataset:\")\n",
    "\n",
    "data.head()"
   ]
  },
  {
   "cell_type": "code",
   "execution_count": null,
   "metadata": {
    "vscode": {
     "languageId": "plaintext"
    }
   },
   "outputs": [],
   "source": [
    "data.isnull().sum()\n",
    "data.describe()"
   ]
  },
  {
   "cell_type": "code",
   "execution_count": null,
   "metadata": {
    "vscode": {
     "languageId": "plaintext"
    }
   },
   "outputs": [],
   "source": [
    "print(\"\\nMissing values per column:\")\n",
    "data.isnull().sum()"
   ]
  },
  {
   "cell_type": "code",
   "execution_count": null,
   "metadata": {
    "vscode": {
     "languageId": "plaintext"
    }
   },
   "outputs": [],
   "source": [
    "duplicates = data.duplicated().sum()\n",
    "print(f\"\\nNumber of duplicate rows: {duplicates}\")"
   ]
  },
  {
   "cell_type": "code",
   "execution_count": null,
   "metadata": {
    "vscode": {
     "languageId": "plaintext"
    }
   },
   "outputs": [],
   "source": [
    "data['label'].value_counts()"
   ]
  },
  {
   "cell_type": "code",
   "execution_count": null,
   "metadata": {
    "vscode": {
     "languageId": "plaintext"
    }
   },
   "outputs": [],
   "source": [
    "columns = ['N', 'P', 'K', 'T2M_MAX-W', 'QV2M-W', 'Ph', 'PRECTOTCORR-W']\n",
    "titles = [\n",
    "    'Ratio of Nitrogen', \n",
    "    'Ratio of Phosphorous', \n",
    "    'Ratio of Potassium', \n",
    "    'Distribution of Temperature (Winter)', \n",
    "    'Distribution of Humidity (Winter)', \n",
    "    'Distribution of pH', \n",
    "    'Distribution of Rainfall (Winter)'\n",
    "]\n",
    "colors = [\n",
    "    'royalblue', \n",
    "    'orange', \n",
    "    'green', \n",
    "    'red', \n",
    "    'purple', \n",
    "    'cyan', \n",
    "    'magenta'\n",
    "]\n",
    "\n",
    "fig = make_subplots(rows=4, cols=2, subplot_titles=titles)\n",
    "\n",
    "for i, (col, title, color) in enumerate(zip(columns, titles, colors)):\n",
    "    row = i // 2 + 1  \n",
    "    col_idx = i % 2 + 1 \n",
    "    \n",
    "    histogram = go.Histogram(\n",
    "        x=data[col],\n",
    "        name=title,\n",
    "        opacity=0.75,\n",
    "        marker=dict(color=color),\n",
    "        nbinsx=30  \n",
    "    )\n",
    "    \n",
    "    fig.add_trace(histogram, row=row, col=col_idx)\n",
    "\n",
    "fig.update_layout(\n",
    "    title_text='Crop Dataset Distributions',\n",
    "    height=1000,\n",
    "    showlegend=False,\n",
    "    barmode='overlay',\n",
    ")\n",
    "\n",
    "fig.update_traces(hoverinfo='x+y')\n",
    "\n",
    "fig.show()\n"
   ]
  },
  {
   "cell_type": "code",
   "execution_count": null,
   "metadata": {
    "vscode": {
     "languageId": "plaintext"
    }
   },
   "outputs": [],
   "source": [
    "df = pd.read_csv(\"crop_dataset.csv\")\n",
    "\n",
    "parameters = {\n",
    "    'N': 'Average Nitrogen Content Ratio',\n",
    "    'P': 'Average Phosphorus Content',\n",
    "    'K': 'Average Potassium Content',\n",
    "    'PRECTOTCORR-W': 'Total Rainfall (Winter)',\n",
    "    'T2M_MIN-W': 'Minimum Temperature (Winter)',\n",
    "    'T2M_MAX-W': 'Maximum Temperature (Winter)',\n",
    "    'QV2M-W': 'Humidity (Winter)'\n",
    "}\n",
    "\n",
    "for param, title in parameters.items():\n",
    "    if param in df.columns and 'label' in df.columns:\n",
    "        parameter_data = df.groupby('label')[param].mean().reset_index()\n",
    "\n",
    "        max_crop = parameter_data.loc[parameter_data[param].idxmax()]\n",
    "\n",
    "        averages = df.groupby('label')[list(parameters.keys())].mean().reset_index()\n",
    "        averages['Overall_Average'] = averages[list(parameters.keys())].mean(axis=1)\n",
    "\n",
    "        resilient_crop = averages.loc[averages['Overall_Average'].idxmax()]\n",
    "\n",
    "        fig = px.bar(parameter_data,\n",
    "                     x='label',\n",
    "                     y=param,\n",
    "                     title=title,\n",
    "                     labels={param: title},\n",
    "                     color=param,\n",
    "                     color_continuous_scale=px.colors.sequential.Viridis)\n",
    "\n",
    "        fig.update_layout(\n",
    "            height=600,\n",
    "            xaxis_title='Crops',\n",
    "            yaxis_title=title,\n",
    "            yaxis=dict(range=[0, parameter_data[param].max() + 0.05]),  \n",
    "            xaxis_tickangle=-45  \n",
    "        )\n",
    "\n",
    "        fig.add_annotation(\n",
    "            x=max_crop['label'],\n",
    "            y=max_crop[param],\n",
    "            text=f\"Highest: {max_crop['label']}\",\n",
    "            showarrow=True,\n",
    "            arrowhead=2,\n",
    "            ax=20,\n",
    "            ay=-40,\n",
    "            font=dict(size=12, color=\"green\"),\n",
    "            bgcolor=\"lightgreen\",\n",
    "            bordercolor=\"green\",\n",
    "            borderwidth=1,\n",
    "            borderpad=4,\n",
    "            opacity=0.8\n",
    "        )\n",
    "\n",
    "        fig.add_annotation(\n",
    "            x=resilient_crop['label'],\n",
    "            y=resilient_crop[param],\n",
    "            text=f\"Resilient: {resilient_crop['label']}\",\n",
    "            showarrow=True,\n",
    "            arrowhead=2,\n",
    "            ax=-20,\n",
    "            ay=40,\n",
    "            font=dict(size=12, color=\"blue\"),\n",
    "            bgcolor=\"lightblue\",\n",
    "            bordercolor=\"blue\",\n",
    "            borderwidth=1,\n",
    "            borderpad=4,\n",
    "            opacity=0.8\n",
    "        )\n",
    "\n",
    "        fig.show()\n",
    "    else:\n",
    "        print(f\"The required column '{param}' or 'label' is not present in the dataset.\")\n"
   ]
  },
  {
   "cell_type": "code",
   "execution_count": null,
   "metadata": {
    "vscode": {
     "languageId": "plaintext"
    }
   },
   "outputs": [],
   "source": [
    "df = pd.read_csv(\"crop_dataset.csv\")\n",
    "\n",
    "soil_color_counts = df['Soilcolor'].value_counts().reset_index()\n",
    "soil_color_counts.columns = ['Soil Color', 'Count']\n",
    "\n",
    "fig1 = px.bar(soil_color_counts, x='Soil Color', y='Count',\n",
    "              title='Crop Distribution by Soil Color',\n",
    "              labels={'Count': 'Number of Crops'},\n",
    "              color='Count',\n",
    "              color_continuous_scale=px.colors.sequential.Viridis)\n",
    "\n",
    "fig1.show()\n",
    "\n",
    "fig2 = px.scatter(df, x='Ph', y='label', color='label',\n",
    "                  title='pH Levels by Crop',\n",
    "                  labels={'Ph': 'Soil pH', 'label': 'Crops'},\n",
    "                  hover_data=['Ph'])\n",
    "\n",
    "fig2.add_hline(y=6.0, line_dash=\"dash\", line_color=\"red\", annotation_text=\"Optimal pH Range\", annotation_position=\"top right\")\n",
    "fig2.add_hline(y=7.5, line_dash=\"dash\", line_color=\"red\")\n",
    "\n",
    "fig2.show()\n",
    "\n",
    "nutrients = ['N', 'P', 'K', 'Zn', 'S']\n",
    "for nutrient in nutrients:\n",
    "    fig3 = px.box(df, x='label', y=nutrient,\n",
    "                  title=f'{nutrient} Levels by Crop',\n",
    "                  labels={'label': 'Crops', nutrient: f'{nutrient} Level'},\n",
    "                  color='label')\n",
    "\n",
    "    fig3.show()"
   ]
  },
  {
   "cell_type": "code",
   "execution_count": null,
   "metadata": {
    "vscode": {
     "languageId": "plaintext"
    }
   },
   "outputs": [],
   "source": [
    "import pandas as pd\n",
    "import plotly.express as px\n",
    "import plotly.graph_objects as go\n",
    "\n",
    "df = pd.read_csv(\"crop_dataset.csv\")\n",
    "\n",
    "fig1 = px.scatter(df, x='QV2M-W', y='label', color='label',\n",
    "                  title='Humidity Levels by Crop',\n",
    "                  labels={'QV2M-W': 'Humidity (Winter)', 'label': 'Crops'},\n",
    "                  hover_data=['QV2M-W'])\n",
    "\n",
    "fig1.show()\n",
    "\n",
    "fig2 = px.scatter(df, x='T2M_MAX-W', y='label', color='label',\n",
    "                  title='Maximum Temperature by Crop',\n",
    "                  labels={'T2M_MAX-W': 'Max Temperature (Winter)', 'label': 'Crops'},\n",
    "                  hover_data=['T2M_MAX-W'])\n",
    "\n",
    "fig2.add_hline(y=15, line_dash=\"dash\", line_color=\"red\", annotation_text=\"Optimal Temp Range\", annotation_position=\"top right\")\n",
    "fig2.add_hline(y=30, line_dash=\"dash\", line_color=\"red\")\n",
    "\n",
    "fig2.show()\n",
    "\n",
    "fig3 = px.scatter(df, x='T2M_MIN-W', y='label', color='label',\n",
    "                  title='Minimum Temperature by Crop',\n",
    "                  labels={'T2M_MIN-W': 'Min Temperature (Winter)', 'label': 'Crops'},\n",
    "                  hover_data=['T2M_MIN-W'])\n",
    "\n",
    "fig3.add_hline(y=5, line_dash=\"dash\", line_color=\"red\", annotation_text=\"Optimal Temp Range\", annotation_position=\"top right\")\n",
    "fig3.add_hline(y=20, line_dash=\"dash\", line_color=\"red\")\n",
    "\n",
    "fig3.show()\n",
    "\n",
    "rainfall_data = df.groupby('label')['PRECTOTCORR-W'].mean().reset_index()  # Average rainfall per crop\n",
    "\n",
    "fig4 = px.bar(rainfall_data, x='label', y='PRECTOTCORR-W',\n",
    "               title='Average Total Rainfall by Crop',\n",
    "               labels={'PRECTOTCORR-W': 'Average Rainfall (Winter)'},\n",
    "               color='PRECTOTCORR-W',\n",
    "               color_continuous_scale=px.colors.sequential.Viridis)\n",
    "\n",
    "fig4.show()"
   ]
  }
 ],
 "metadata": {
  "language_info": {
   "name": "python"
  }
 },
 "nbformat": 4,
 "nbformat_minor": 2
}
